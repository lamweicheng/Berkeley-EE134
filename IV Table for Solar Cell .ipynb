{
 "cells": [
  {
   "cell_type": "code",
   "execution_count": 32,
   "id": "3371972e",
   "metadata": {},
   "outputs": [
    {
     "name": "stdout",
     "output_type": "stream",
     "text": [
      "Main Table:\n",
      "    Voltage (V)  Current (A)\n",
      "0        -1.000        1.009\n",
      "1        -0.917        1.008\n",
      "2        -0.833        1.007\n",
      "3        -0.750        1.007\n",
      "4        -0.667        1.006\n",
      "5        -0.583        1.005\n",
      "6        -0.500        1.004\n",
      "7        -0.417        1.003\n",
      "8        -0.333        1.002\n",
      "9        -0.250        1.002\n",
      "10       -0.167        1.001\n",
      "11       -0.083        1.000\n",
      "12        0.000        0.999\n",
      "13        0.083        0.998\n",
      "14        0.167        0.996\n",
      "15        0.250        0.988\n",
      "16        0.333        0.952\n",
      "17        0.417        0.775\n",
      "18        0.500       -0.106\n",
      "19        0.583       -4.525\n",
      "20        0.667      -26.679\n",
      "21        0.750     -137.766\n",
      "22        0.833     -694.798\n",
      "23        0.917    -3487.989\n",
      "24        1.000   -17494.235\n",
      "Current and Voltage\n",
      "   Voltage (V) at I=0  Current (A) at V=0\n",
      "0                0.49               0.999\n"
     ]
    }
   ],
   "source": [
    "import numpy as np\n",
    "import pandas as pd\n",
    "\n",
    "IL = 1\n",
    "Rs = 0.1\n",
    "Rp = 100\n",
    "I0 = 10e-6\n",
    "T = 300\n",
    "q = 1.602e-19\n",
    "k = 1.38e-23\n",
    "n = 2\n",
    "\n",
    "def calculate_current(V):\n",
    "    return IL - I0 * (np.exp((q * (V + Rs * IL)) / (n * k * T)) - 1) - (V + Rs * IL) / Rp\n",
    "\n",
    "V_points = np.linspace(-1, 1, 25)\n",
    "I_points = [calculate_current(V) for V in V_points]\n",
    "V_points_rounded = np.round(V_points, 3)\n",
    "I_points_rounded = np.round(I_points, 3)\n",
    "\n",
    "# Find the voltage where the current is closest to 0 using np.interp\n",
    "V_at_I0 = np.interp(0, I_points[::-1], V_points[::-1])  # Using reversed arrays for a more accurate result\n",
    "V_at_I0_rounded = round(V_at_I0, 3)\n",
    "\n",
    "# Find the current when the voltage is 0 using np.interp\n",
    "I_at_V0 = np.interp(0, V_points, I_points)\n",
    "I_at_V0_rounded = round(I_at_V0, 3)\n",
    "\n",
    "# Create a DataFrame for the main table\n",
    "data_main = {'Voltage (V)': V_points_rounded, 'Current (A)': I_points_rounded}\n",
    "df_main = pd.DataFrame(data_main)\n",
    "\n",
    "# Create a DataFrame for the additional tables\n",
    "data_additional = {'Voltage (V) at I=0': [V_at_I0_rounded], 'Current (A) at V=0': [I_at_V0_rounded]}\n",
    "df_additional = pd.DataFrame(data_additional)\n",
    "\n",
    "# Display the main table\n",
    "print(\"Main Table:\")\n",
    "print(df_main)\n",
    "\n",
    "# Display the additional tables\n",
    "print(\"Current and Voltage\")\n",
    "print(df_additional)\n"
   ]
  },
  {
   "cell_type": "code",
   "execution_count": null,
   "id": "c89e5633",
   "metadata": {},
   "outputs": [],
   "source": []
  }
 ],
 "metadata": {
  "kernelspec": {
   "display_name": "Python 3 (ipykernel)",
   "language": "python",
   "name": "python3"
  },
  "language_info": {
   "codemirror_mode": {
    "name": "ipython",
    "version": 3
   },
   "file_extension": ".py",
   "mimetype": "text/x-python",
   "name": "python",
   "nbconvert_exporter": "python",
   "pygments_lexer": "ipython3",
   "version": "3.11.5"
  }
 },
 "nbformat": 4,
 "nbformat_minor": 5
}
